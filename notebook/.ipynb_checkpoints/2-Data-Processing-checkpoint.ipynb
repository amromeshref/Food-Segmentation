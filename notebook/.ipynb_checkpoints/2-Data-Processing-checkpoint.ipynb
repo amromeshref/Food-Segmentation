{
 "cells": [
  {
   "cell_type": "markdown",
   "id": "f5810d32",
   "metadata": {},
   "source": [
    "# Importing Packages"
   ]
  },
  {
   "cell_type": "code",
   "execution_count": 1,
   "id": "6b0e1fbf",
   "metadata": {},
   "outputs": [],
   "source": [
    "import json\n",
    "import os"
   ]
  },
  {
   "cell_type": "markdown",
   "id": "77cc8f85",
   "metadata": {},
   "source": [
    "# --------------------------------------------------------------------------------------"
   ]
  },
  {
   "cell_type": "markdown",
   "id": "fa1b80d1",
   "metadata": {},
   "source": [
    "### Creating annotations for each image - food class and bounding box - Not normalized"
   ]
  },
  {
   "cell_type": "code",
   "execution_count": 2,
   "id": "768b519b",
   "metadata": {},
   "outputs": [],
   "source": [
    "def mapping_image_id_to_bbox(annotations_json_file_path: str):\n",
    "    \"\"\"\n",
    "    This function return a dict, a key is an image id, and the value\n",
    "    is the food classes and bbox present in the image.\n",
    "    \"\"\"\n",
    "    with open(annotations_json_file_path, \"r\") as file:\n",
    "        annotations_json_file = json.load(file)\n",
    "    \n",
    "    dct = {}\n",
    "    for annotation in annotations_json_file[\"annotations\"]:\n",
    "        image_id = annotation[\"image_id\"]\n",
    "        food_class = annotation[\"category_id\"]\n",
    "        bbox = annotation[\"bbox\"]\n",
    "        if image_id not in dct:\n",
    "            dct[image_id] = []\n",
    "        bbox.insert(0,food_class)\n",
    "        dct[image_id].append(bbox)\n",
    "    return dct"
   ]
  },
  {
   "cell_type": "code",
   "execution_count": 3,
   "id": "cac1b78c",
   "metadata": {},
   "outputs": [],
   "source": [
    "def doJob(data_path):\n",
    "    \"\"\"\n",
    "    This function creats a text file for each image in the dataset and put\n",
    "    the annotations(not normalized) inside this text\n",
    "    \"\"\"\n",
    "    annotations_json_file_path = data_path+\"/annotations.json\"\n",
    "    image_id_to_annotations = mapping_image_id_to_bbox(annotations_json_file_path)\n",
    "    for image in os.listdir(data_path+\"/images\"):\n",
    "        image_name = os.path.splitext(os.path.basename(data_path+\"images/\"+image))[0]\n",
    "        image_id = int(image_name)\n",
    "        \n",
    "        annotation_txt_file_path = data_path+\"/annotations-not-normalized/\"+image_name+\".txt\"\n",
    "        with open(annotation_txt_file_path, \"w\") as file:\n",
    "            for annotation in image_id_to_annotations[image_id]:\n",
    "                file.write(\" \".join(map(str, annotation)) + \"\\n\")  # Write annotations"
   ]
  },
  {
   "cell_type": "code",
   "execution_count": 41,
   "id": "9242dc6e",
   "metadata": {},
   "outputs": [],
   "source": [
    "# Create annotations for the images in public_validation_set_2\n",
    "doJob(\"../data/external/public_validation_set_2.0\")\n",
    "\n",
    "# Create annotations for the images in public_training_set_release_2.0\n",
    "doJob(\"../data/external/public_training_set_release_2.0\")"
   ]
  },
  {
   "cell_type": "markdown",
   "id": "5ac6b11b",
   "metadata": {},
   "source": [
    "# --------------------------------------------------------------------------------------"
   ]
  },
  {
   "cell_type": "markdown",
   "id": "bf55024e",
   "metadata": {},
   "source": [
    "### Create a Json file to map the food class ids to new ids"
   ]
  },
  {
   "cell_type": "markdown",
   "id": "4e852017",
   "metadata": {},
   "source": [
    "- Every food class will have an id between 0 and 497"
   ]
  },
  {
   "cell_type": "code",
   "execution_count": 9,
   "id": "2525671d",
   "metadata": {},
   "outputs": [],
   "source": [
    "with open(\"../data/external/food_classes_with_original_id.json\", \"r\") as file:\n",
    "    food_class_to_original_id = json.load(file)"
   ]
  },
  {
   "cell_type": "code",
   "execution_count": 10,
   "id": "3bf1bab5",
   "metadata": {},
   "outputs": [
    {
     "data": {
      "text/plain": [
       "2099"
      ]
     },
     "execution_count": 10,
     "metadata": {},
     "output_type": "execute_result"
    }
   ],
   "source": [
    "food_class_to_original_id[\"jam\"]"
   ]
  },
  {
   "cell_type": "code",
   "execution_count": 14,
   "id": "1dd3d3a9",
   "metadata": {},
   "outputs": [],
   "source": [
    "with open(\"../data/external/food_classes.txt\", \"r\") as file:\n",
    "    food_classes = file.read()\n",
    "food_classes = food_classes.split(\"\\n\")"
   ]
  },
  {
   "cell_type": "code",
   "execution_count": 15,
   "id": "44500994",
   "metadata": {},
   "outputs": [
    {
     "data": {
      "text/plain": [
       "['bread-wholemeal',\n",
       " 'jam',\n",
       " 'water',\n",
       " 'bread-sourdough',\n",
       " 'banana',\n",
       " 'soft-cheese',\n",
       " 'ham-raw',\n",
       " 'hard-cheese',\n",
       " 'cottage-cheese']"
      ]
     },
     "execution_count": 15,
     "metadata": {},
     "output_type": "execute_result"
    }
   ],
   "source": [
    "food_classes[:9]"
   ]
  },
  {
   "cell_type": "code",
   "execution_count": 18,
   "id": "460f3175",
   "metadata": {},
   "outputs": [],
   "source": [
    "id = 0\n",
    "original_id_to_new_id = {}\n",
    "\n",
    "for food_class in food_classes:\n",
    "    if food_class in food_class_to_original_id:\n",
    "        original_id = food_class_to_original_id[food_class]\n",
    "        original_id_to_new_id[original_id] = {}\n",
    "        original_id_to_new_id[original_id][\"name\"] = food_class\n",
    "        original_id_to_new_id[original_id][\"new_id\"] = id\n",
    "        id+=1"
   ]
  },
  {
   "cell_type": "code",
   "execution_count": 20,
   "id": "9465f9d5",
   "metadata": {},
   "outputs": [],
   "source": [
    "with open(\"../data/external/original_id_to_new_id.json\", \"w\") as file:\n",
    "    json.dump(original_id_to_new_id, file, indent=4) "
   ]
  },
  {
   "cell_type": "markdown",
   "id": "30a082ea",
   "metadata": {},
   "source": [
    "# --------------------------------------------------------------------------------------"
   ]
  },
  {
   "cell_type": "markdown",
   "id": "84de7495",
   "metadata": {},
   "source": [
    "### Change the food class id to the new id in the annotations text files"
   ]
  },
  {
   "cell_type": "code",
   "execution_count": 21,
   "id": "69a9ae31",
   "metadata": {},
   "outputs": [],
   "source": [
    "def change_ids(data_dir_path):\n",
    "    for annotation in os.listdir(data_dir_path):\n",
    "        annotation_file_path = os.path.join(data_dir_path, annotation)\n",
    "\n",
    "        with open(annotation_file_path, \"r\") as file:\n",
    "            lines = file.readlines()\n",
    "\n",
    "        updated_lines = []\n",
    "        for line in lines:\n",
    "            values = line.strip().split()\n",
    "            original_id = int(values[0])  # Extract the class ID\n",
    "            if original_id in original_id_to_new_id:\n",
    "                new_id = original_id_to_new_id[original_id][\"new_id\"]\n",
    "                values[0] = str(new_id)  # Replace the class ID\n",
    "            updated_lines.append(\" \".join(values))  # Reconstruct the line\n",
    "\n",
    "        # Write the updated annotations back to the file\n",
    "        with open(annotation_file_path, \"w\") as file:\n",
    "            file.write(\"\\n\".join(updated_lines))"
   ]
  },
  {
   "cell_type": "code",
   "execution_count": 22,
   "id": "f081f076",
   "metadata": {},
   "outputs": [],
   "source": [
    "change_ids(\"../data/external/public_validation_set_2.0/annotations\")"
   ]
  },
  {
   "cell_type": "code",
   "execution_count": 23,
   "id": "83c71db3",
   "metadata": {},
   "outputs": [],
   "source": [
    "change_ids(\"../data/external/public_training_set_release_2.0/annotations\")"
   ]
  },
  {
   "cell_type": "code",
   "execution_count": null,
   "id": "8a7f24c1",
   "metadata": {},
   "outputs": [],
   "source": []
  }
 ],
 "metadata": {
  "kernelspec": {
   "display_name": "ai1",
   "language": "python",
   "name": "ai1"
  },
  "language_info": {
   "codemirror_mode": {
    "name": "ipython",
    "version": 3
   },
   "file_extension": ".py",
   "mimetype": "text/x-python",
   "name": "python",
   "nbconvert_exporter": "python",
   "pygments_lexer": "ipython3",
   "version": "3.9.18"
  }
 },
 "nbformat": 4,
 "nbformat_minor": 5
}
