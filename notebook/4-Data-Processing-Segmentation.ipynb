{
 "cells": [
  {
   "cell_type": "markdown",
   "id": "06b78139-86a6-4c66-8af0-ef2f424c1ecf",
   "metadata": {},
   "source": [
    "# Importing Packages"
   ]
  },
  {
   "cell_type": "code",
   "execution_count": 2,
   "id": "e5aa9093-7fa0-4ee6-b8b4-33cf5304bd2f",
   "metadata": {},
   "outputs": [],
   "source": [
    "import json\n",
    "import os\n",
    "import random\n",
    "import matplotlib.pyplot as plt\n",
    "import cv2"
   ]
  },
  {
   "cell_type": "markdown",
   "id": "15be7b6e-51e2-4a6c-8646-1f18cc323b7d",
   "metadata": {},
   "source": [
    "# --------------------------------------------------------------------------------------"
   ]
  },
  {
   "cell_type": "markdown",
   "id": "da3dfae2-3997-4b83-bba3-c27d9c3431d7",
   "metadata": {},
   "source": [
    "### Creating annotations for each image - food class and polygon points - normalized"
   ]
  },
  {
   "cell_type": "code",
   "execution_count": 11,
   "id": "67a9abd7-9c1f-49fd-92b4-3e12d9d62a91",
   "metadata": {},
   "outputs": [
    {
     "data": {
      "text/plain": [
       "{'name': 'bread-wholemeal', 'new_id': 0}"
      ]
     },
     "execution_count": 11,
     "metadata": {},
     "output_type": "execute_result"
    }
   ],
   "source": [
    "with open(\"../data/external/original_id_to_new_id.json\", \"r\") as file:\n",
    "    original_id_to_new_id = json.load(file)\n",
    "original_id_to_new_id[\"1565\"]"
   ]
  },
  {
   "cell_type": "code",
   "execution_count": 24,
   "id": "f8266936-9798-448d-874c-e7bf08f0f423",
   "metadata": {},
   "outputs": [],
   "source": [
    "def mapping_image_id_to_polygon_points(annotations_json_file_path: str):\n",
    "    \"\"\"\n",
    "    This function return a dict, a key is an image id, and the value\n",
    "    is the food classes and polygon points(normalized) of different classes present in the image.\n",
    "    \"\"\"\n",
    "    with open(annotations_json_file_path, \"r\") as file:\n",
    "        annotations_json_file = json.load(file)\n",
    "    \n",
    "    dct = {}\n",
    "    for annotation in annotations_json_file[\"annotations\"]:\n",
    "        image_id = annotation[\"image_id\"]\n",
    "        food_class_original_id = annotation[\"category_id\"]\n",
    "        food_class_new_id = original_id_to_new_id[str(food_class_original_id)][\"new_id\"]\n",
    "        segmentation = annotation[\"segmentation\"]\n",
    "        if image_id not in dct:\n",
    "            dct[image_id] = []\n",
    "\n",
    "        w = h = 0\n",
    "        for img in annotations_json_file[\"images\"]:\n",
    "            if img[\"id\"] == image_id:\n",
    "                w = img[\"width\"]\n",
    "                h = img[\"height\"]\n",
    "                break\n",
    "        \n",
    "        for seg in segmentation:\n",
    "            for i in range(len(seg)):\n",
    "                if i%2==0:\n",
    "                    seg[i] = seg[i]/w\n",
    "                else:\n",
    "                    seg[i] = seg[i]/h\n",
    "            seg.insert(0, food_class_new_id)\n",
    "            dct[image_id].append(seg)\n",
    "    return dct"
   ]
  },
  {
   "cell_type": "code",
   "execution_count": 14,
   "id": "7594720e-bb37-47ea-bdce-45cb8ff315cd",
   "metadata": {},
   "outputs": [],
   "source": [
    "# Test on Val data\n",
    "dct = mapping_image_id_to_polygon_points(\"../data/external/public_validation_set_2.0/annotations.json\")"
   ]
  },
  {
   "cell_type": "code",
   "execution_count": 25,
   "id": "cc796847-b4cd-4182-afa5-0f3a8ebb8c4a",
   "metadata": {},
   "outputs": [],
   "source": [
    "def doJob(data_path):\n",
    "    \"\"\"\n",
    "    This function creats a text file for each image in the dataset and put\n",
    "    the annotations(normalized format) inside this text\n",
    "    \"\"\"\n",
    "    annotations_json_file_path = data_path+\"/annotations.json\"\n",
    "    image_id_to_annotations = mapping_image_id_to_polygon_points(annotations_json_file_path)\n",
    "    for image in os.listdir(data_path+\"/images\"):\n",
    "        image_name = os.path.splitext(os.path.basename(data_path+\"images/\"+image))[0]\n",
    "        image_id = int(image_name)\n",
    "        \n",
    "        annotation_txt_file_path = data_path+\"/annotations-segmentation-normalized/\"+image_name+\".txt\"\n",
    "        with open(annotation_txt_file_path, \"w\") as file:\n",
    "            for annotation in image_id_to_annotations[image_id]:\n",
    "                file.write(\" \".join(map(str, annotation)) + \"\\n\")  # Write annotations"
   ]
  },
  {
   "cell_type": "code",
   "execution_count": 27,
   "id": "470f018d-4754-4ff9-929e-4d92f7ae37b6",
   "metadata": {},
   "outputs": [],
   "source": [
    "# Create annotations for the images in public_validation_set_2\n",
    "doJob(\"../data/external/public_validation_set_2.0\")\n",
    "\n",
    "# Create annotations for the images in public_training_set_release_2.0\n",
    "doJob(\"../data/external/public_training_set_release_2.0\")"
   ]
  },
  {
   "cell_type": "code",
   "execution_count": null,
   "id": "9e39392f-679d-4a45-8c35-5410e52c1645",
   "metadata": {},
   "outputs": [],
   "source": []
  }
 ],
 "metadata": {
  "kernelspec": {
   "display_name": "ai",
   "language": "python",
   "name": "ai"
  },
  "language_info": {
   "codemirror_mode": {
    "name": "ipython",
    "version": 3
   },
   "file_extension": ".py",
   "mimetype": "text/x-python",
   "name": "python",
   "nbconvert_exporter": "python",
   "pygments_lexer": "ipython3",
   "version": "3.9.21"
  }
 },
 "nbformat": 4,
 "nbformat_minor": 5
}
