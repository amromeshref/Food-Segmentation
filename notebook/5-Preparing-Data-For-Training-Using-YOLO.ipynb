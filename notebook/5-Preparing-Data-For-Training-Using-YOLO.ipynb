{
 "cells": [
  {
   "cell_type": "markdown",
   "id": "685ba14b-279c-4426-b651-72446a4c0bcc",
   "metadata": {},
   "source": [
    "# Importing Packages"
   ]
  },
  {
   "cell_type": "code",
   "execution_count": 16,
   "id": "d207a567-5b57-4e1f-bfc3-93a9f6ed2f16",
   "metadata": {},
   "outputs": [],
   "source": [
    "import os\n",
    "import shutil\n",
    "import random\n",
    "from pathlib import Path\n",
    "import yaml"
   ]
  },
  {
   "cell_type": "markdown",
   "id": "2ac4d6bf-93fd-4a72-a6d3-b092875ee097",
   "metadata": {},
   "source": [
    "# --------------------------------------------------------------------------------------"
   ]
  },
  {
   "cell_type": "markdown",
   "id": "097e09ed-56ea-44f9-9956-921b9a083b46",
   "metadata": {},
   "source": [
    "##### Checking the total number of images in the dataset"
   ]
  },
  {
   "cell_type": "code",
   "execution_count": 4,
   "id": "0bfe09f0-e223-4dad-a869-ed8a9a0df193",
   "metadata": {},
   "outputs": [],
   "source": [
    "original_data_path1 = \"../data/external/public_training_set_release_2.0/\"\n",
    "original_data_path2 = \"../data/external/public_validation_set_2.0/\"\n",
    "yolo_data_Set = \"../data/yolo-dataset/\""
   ]
  },
  {
   "cell_type": "code",
   "execution_count": 5,
   "id": "41ce1fec-359c-4bfd-9e7c-cb3092a69f40",
   "metadata": {},
   "outputs": [
    {
     "name": "stdout",
     "output_type": "stream",
     "text": [
      "Total Number of Images: 40962\n"
     ]
    }
   ],
   "source": [
    "total_num_images = len(os.listdir(original_data_path1+\"images\"))\n",
    "total_num_images += len(os.listdir(original_data_path2+\"images\"))\n",
    "print(\"Total Number of Images:\", total_num_images)"
   ]
  },
  {
   "cell_type": "markdown",
   "id": "adaba5a9-37db-4b40-83c9-a559ac3f1aad",
   "metadata": {},
   "source": [
    "##### Determining the ratio of train,test,val datasets"
   ]
  },
  {
   "cell_type": "code",
   "execution_count": 10,
   "id": "d5e8437d-179e-440a-8d3b-667822fcbb99",
   "metadata": {},
   "outputs": [],
   "source": [
    "train_ratio = 0.7\n",
    "test_ratio = 0.15\n",
    "val_ratio = 0.15"
   ]
  },
  {
   "cell_type": "markdown",
   "id": "2a080385-642e-4b6b-a0ea-fcc03237536d",
   "metadata": {},
   "source": [
    "##### Determining all valid image-label pairs"
   ]
  },
  {
   "cell_type": "code",
   "execution_count": 12,
   "id": "b5f4d6c8-24d1-4c76-ac62-b44820ca1eb4",
   "metadata": {},
   "outputs": [
    {
     "name": "stdout",
     "output_type": "stream",
     "text": [
      "Total valid image-label pairs found: 40962\n"
     ]
    }
   ],
   "source": [
    "# Original data paths\n",
    "original_data_paths = [\n",
    "    \"../data/external/public_training_set_release_2.0\",\n",
    "    \"../data/external/public_validation_set_2.0\"\n",
    "]\n",
    "\n",
    "# Target base path\n",
    "yolo_dataset_path = \"../data/yolo-dataset\"\n",
    "\n",
    "# Collect all (image, label) pairs\n",
    "all_data = []\n",
    "\n",
    "for path in original_data_paths:\n",
    "    images_dir = os.path.join(path, \"images\")\n",
    "    labels_dir = os.path.join(path, \"annotations-segmentation-normalized\")\n",
    "    \n",
    "    for img_file in os.listdir(images_dir):\n",
    "        if img_file.lower().endswith(('.jpg', '.jpeg', '.png')):\n",
    "            label_file = os.path.splitext(img_file)[0] + \".txt\" \n",
    "            img_path = os.path.join(images_dir, img_file)\n",
    "            label_path = os.path.join(labels_dir, label_file)\n",
    "            if os.path.exists(label_path):\n",
    "                all_data.append((img_path, label_path))\n",
    "\n",
    "print(f\"Total valid image-label pairs found: {len(all_data)}\")"
   ]
  },
  {
   "cell_type": "markdown",
   "id": "ac7ffeeb-3fdc-4650-923e-642e94c89a12",
   "metadata": {},
   "source": [
    "##### Shuffle data and compute split indices"
   ]
  },
  {
   "cell_type": "code",
   "execution_count": 13,
   "id": "b4fbd40f-3e0d-4c93-b673-f45f4353177c",
   "metadata": {},
   "outputs": [],
   "source": [
    "# Shuffle data\n",
    "random.shuffle(all_data)\n",
    "\n",
    "# Compute split indices\n",
    "total = len(all_data)\n",
    "train_end = int(total * train_ratio)\n",
    "val_end = train_end + int(total * val_ratio)\n",
    "\n",
    "train_data = all_data[:train_end]\n",
    "val_data = all_data[train_end:val_end]\n",
    "test_data = all_data[val_end:]"
   ]
  },
  {
   "cell_type": "markdown",
   "id": "99c3889f-2620-4f73-a7ae-82b3ab6b27ef",
   "metadata": {},
   "source": [
    "##### Copy images/labels to yolo-dataset directory"
   ]
  },
  {
   "cell_type": "code",
   "execution_count": 15,
   "id": "5edc028e-3c7b-42b9-9570-b13ceccc5c9d",
   "metadata": {},
   "outputs": [],
   "source": [
    "def copy_data(data, split_name):\n",
    "    for img_path, label_path in data:\n",
    "        img_name = os.path.basename(img_path)\n",
    "        label_name = os.path.basename(label_path)\n",
    "        \n",
    "        shutil.copy(img_path, f\"{yolo_dataset_path}/{split_name}/images/{img_name}\")\n",
    "        shutil.copy(label_path, f\"{yolo_dataset_path}/{split_name}/labels/{label_name}\")\n",
    "\n",
    "# Copy all splits\n",
    "copy_data(train_data, \"train\")\n",
    "copy_data(val_data, \"valid\")\n",
    "copy_data(test_data, \"test\")"
   ]
  },
  {
   "cell_type": "markdown",
   "id": "8aff2364-df36-464e-af13-bc7d1830654c",
   "metadata": {},
   "source": [
    "##### Checking the size of train,test,val dataset"
   ]
  },
  {
   "cell_type": "code",
   "execution_count": 6,
   "id": "9fcde633-a3af-4d93-ba41-b05b14af9850",
   "metadata": {},
   "outputs": [
    {
     "name": "stdout",
     "output_type": "stream",
     "text": [
      "Train Dataset Size: 28673\n",
      "Test Dataset Size: 6145\n",
      "Valid Dataset Size: 6144\n"
     ]
    }
   ],
   "source": [
    "train_dataset_size = len(os.listdir(yolo_data_Set+\"train/images\"))\n",
    "test_dataset_size = len(os.listdir(yolo_data_Set+\"test/images\"))\n",
    "val_dataset_size = len(os.listdir(yolo_data_Set+\"valid/images\"))\n",
    "\n",
    "print(\"Train Dataset Size:\", train_dataset_size)\n",
    "print(\"Test Dataset Size:\", test_dataset_size)\n",
    "print(\"Valid Dataset Size:\", val_dataset_size)"
   ]
  },
  {
   "cell_type": "markdown",
   "id": "ca63baf7-947f-4b29-bb9d-53565f66ad95",
   "metadata": {},
   "source": [
    "##### Creating a data.yaml file"
   ]
  },
  {
   "cell_type": "code",
   "execution_count": 23,
   "id": "1b90e4f8-f359-4ee3-9d71-58de485206d8",
   "metadata": {},
   "outputs": [],
   "source": [
    "with open(\"../data/external/food_classes.txt\") as file:\n",
    "    food_classes = file.read().split(\"\\n\")\n",
    "if food_classes[-1] == \"\":\n",
    "    food_classes.pop()"
   ]
  },
  {
   "cell_type": "code",
   "execution_count": 24,
   "id": "b012118f-cd90-40bb-9540-0fef9d5bcef0",
   "metadata": {},
   "outputs": [],
   "source": [
    "data_yaml = {\n",
    "    'train': 'train/images',\n",
    "    'val': 'valid/images',\n",
    "    'test': 'test/images',\n",
    "    'nc': len(food_classes),\n",
    "    'names': food_classes\n",
    "}\n",
    "\n",
    "# Write to YAML file\n",
    "with open('../data/yolo-dataset/data.yaml', 'w') as f:\n",
    "    yaml.dump(data_yaml, f, sort_keys=False)"
   ]
  },
  {
   "cell_type": "code",
   "execution_count": null,
   "id": "328443d7-0db1-4673-978c-2cfce735b871",
   "metadata": {},
   "outputs": [],
   "source": []
  },
  {
   "cell_type": "code",
   "execution_count": null,
   "id": "45fae344-7d6c-495d-a70c-0f4deb3c55b8",
   "metadata": {},
   "outputs": [],
   "source": []
  },
  {
   "cell_type": "code",
   "execution_count": null,
   "id": "5b0ab9cf-8767-449c-9414-465aadfeb3d7",
   "metadata": {},
   "outputs": [],
   "source": []
  }
 ],
 "metadata": {
  "kernelspec": {
   "display_name": "ai",
   "language": "python",
   "name": "ai"
  },
  "language_info": {
   "codemirror_mode": {
    "name": "ipython",
    "version": 3
   },
   "file_extension": ".py",
   "mimetype": "text/x-python",
   "name": "python",
   "nbconvert_exporter": "python",
   "pygments_lexer": "ipython3",
   "version": "3.9.21"
  }
 },
 "nbformat": 4,
 "nbformat_minor": 5
}
